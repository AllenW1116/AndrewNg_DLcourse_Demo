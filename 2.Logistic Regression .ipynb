{
 "cells": [
  {
   "cell_type": "code",
   "execution_count": null,
   "metadata": {},
   "outputs": [],
   "source": [
    "import numpy as np\n",
    "#如何计算每一项输入对应的z（i）\n",
    "#矩阵X：[x(1),x(2),..,x(m)]  每一列是一个自变量向量；该矩阵为n*m\n",
    "#计算每一个样本对应的z：Z=[z(1),z(2),..,z(m)]=wT * X + [b,b,..,b]; w是参数向量(n维，和x一样),最后加上常数bias\n",
    "#  Z=np.dot(w.T,X)+b   #b是一个实数，但是python会自动给向量/矩阵的每一项都加b。学名叫broadcast广播\n",
    "\n",
    "#如何计算每一项输入对应的a（i）\n",
    "#矩阵A=[a(1),z(2),..,a(m)]= σ（Z） python可以直接把矩阵Z作为sigmoid的输入，输出对应的结果矩阵\n",
    "\n",
    "#如何计算梯度\n",
    "#dz(i)=a(i)-y(i) dZ=[dz(1),dz(2),..,dz(m)]\n",
    "#所以：dZ=A-Y (1*m)\n",
    "#db = dZ求和/m = np.sum(dZ)/m (1*1)\n",
    "#dW=X*dZ.T/m (n*1),\n"
   ]
  }
 ],
 "metadata": {
  "kernelspec": {
   "display_name": "Python 3",
   "language": "python",
   "name": "python3"
  },
  "language_info": {
   "codemirror_mode": {
    "name": "ipython",
    "version": 3
   },
   "file_extension": ".py",
   "mimetype": "text/x-python",
   "name": "python",
   "nbconvert_exporter": "python",
   "pygments_lexer": "ipython3",
   "version": "3.7.2"
  }
 },
 "nbformat": 4,
 "nbformat_minor": 2
}
