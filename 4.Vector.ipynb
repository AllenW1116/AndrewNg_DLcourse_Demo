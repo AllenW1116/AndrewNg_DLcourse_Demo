{
 "cells": [
  {
   "cell_type": "code",
   "execution_count": 1,
   "metadata": {},
   "outputs": [
    {
     "name": "stdout",
     "output_type": "stream",
     "text": [
      "[-0.74411379 -0.6659272   2.1523713   0.02828432  0.3169315 ]\n"
     ]
    }
   ],
   "source": [
    "import numpy as np\n",
    "a=np.random.randn(5) #五个gauss变量\n",
    "print(a)"
   ]
  },
  {
   "cell_type": "code",
   "execution_count": 6,
   "metadata": {},
   "outputs": [
    {
     "name": "stdout",
     "output_type": "stream",
     "text": [
      "(5, 1)\n",
      "[[ 0.67105363 -0.48824631  1.10723792  0.77564172 -1.50909792]]\n"
     ]
    },
    {
     "data": {
      "text/plain": [
       "array([[ 0.67105363],\n",
       "       [-0.48824631],\n",
       "       [ 1.10723792],\n",
       "       [ 0.77564172],\n",
       "       [-1.50909792]])"
      ]
     },
     "execution_count": 6,
     "metadata": {},
     "output_type": "execute_result"
    }
   ],
   "source": [
    "print(a.shape) #可以看到，在python中a并不是一个向量，而是一个秩为1的数组（rank 1 array）\n",
    "print(a.T) #将其转置，也不会得到列向量，还和原来一样\n",
    "#在编程中，我们应当避免使用这种数据结构！\n",
    "a.reshape((5,1)) #使用reshape将其转为vector"
   ]
  },
  {
   "cell_type": "code",
   "execution_count": 5,
   "metadata": {},
   "outputs": [
    {
     "name": "stdout",
     "output_type": "stream",
     "text": [
      "(5, 1)\n",
      "[[ 0.67105363]\n",
      " [-0.48824631]\n",
      " [ 1.10723792]\n",
      " [ 0.77564172]\n",
      " [-1.50909792]]\n",
      "[[ 0.67105363 -0.48824631  1.10723792  0.77564172 -1.50909792]]\n"
     ]
    }
   ],
   "source": [
    "a=np.random.randn(5,1) #5行1列，列向量！\n",
    "print(a.shape)\n",
    "print(a) #列向量vector\n",
    "print(a.T) #行向量\n",
    "assert(a.shape==(5,1)) #断言：若条件不为真，程序会抛出异常"
   ]
  },
  {
   "cell_type": "code",
   "execution_count": 7,
   "metadata": {},
   "outputs": [
    {
     "data": {
      "text/plain": [
       "array([[ 1,  2,  3,  4],\n",
       "       [ 2,  4,  6,  8],\n",
       "       [ 3,  6,  9, 12],\n",
       "       [ 4,  8, 12, 16]])"
      ]
     },
     "execution_count": 7,
     "metadata": {},
     "output_type": "execute_result"
    }
   ],
   "source": [
    "A=np.array([1,2,3,4])\n",
    "B=np.array([1,2,3,4])\n",
    "np.outer(A,B)"
   ]
  },
  {
   "cell_type": "code",
   "execution_count": 8,
   "metadata": {},
   "outputs": [
    {
     "name": "stdout",
     "output_type": "stream",
     "text": [
      "3\n",
      "3\n",
      "2\n",
      "image2vector(image) = [[0.67826139]\n",
      " [0.29380381]\n",
      " [0.90714982]\n",
      " [0.52835647]\n",
      " [0.4215251 ]\n",
      " [0.45017551]\n",
      " [0.92814219]\n",
      " [0.96677647]\n",
      " [0.85304703]\n",
      " [0.52351845]\n",
      " [0.19981397]\n",
      " [0.27417313]\n",
      " [0.60659855]\n",
      " [0.00533165]\n",
      " [0.10820313]\n",
      " [0.49978937]\n",
      " [0.34144279]\n",
      " [0.94630077]]\n"
     ]
    }
   ],
   "source": [
    "#图像处理时，输入通常是一个三位矩阵（RGB三色，每色对应一个二维矩阵）\n",
    "def image2vector(image):\n",
    "    v = image.reshape(image.shape[0] * image.shape[1] * image.shape[2], 1)\n",
    "    return v\n",
    "image = np.array([[[ 0.67826139,  0.29380381],\n",
    "        [ 0.90714982,  0.52835647],\n",
    "        [ 0.4215251 ,  0.45017551]],\n",
    "\n",
    "       [[ 0.92814219,  0.96677647],\n",
    "        [ 0.85304703,  0.52351845],\n",
    "        [ 0.19981397,  0.27417313]],\n",
    "\n",
    "       [[ 0.60659855,  0.00533165],\n",
    "        [ 0.10820313,  0.49978937],\n",
    "        [ 0.34144279,  0.94630077]]])\n",
    "\n",
    "print(image.shape[0]) #3页（每页是一个二维矩阵）\n",
    "print(image.shape[1]) #3行\n",
    "print(image.shape[2]) #2列\n",
    "print (\"image2vector(image) = \" + str(image2vector(image)))"
   ]
  },
  {
   "cell_type": "code",
   "execution_count": null,
   "metadata": {},
   "outputs": [],
   "source": []
  }
 ],
 "metadata": {
  "kernelspec": {
   "display_name": "Python 3",
   "language": "python",
   "name": "python3"
  },
  "language_info": {
   "codemirror_mode": {
    "name": "ipython",
    "version": 3
   },
   "file_extension": ".py",
   "mimetype": "text/x-python",
   "name": "python",
   "nbconvert_exporter": "python",
   "pygments_lexer": "ipython3",
   "version": "3.7.2"
  }
 },
 "nbformat": 4,
 "nbformat_minor": 2
}
